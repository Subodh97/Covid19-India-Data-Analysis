{
 "cells": [
  {
   "cell_type": "code",
   "execution_count": 1,
   "metadata": {},
   "outputs": [
    {
     "name": "stdout",
     "output_type": "stream",
     "text": [
      "/kaggle/input/covid19-in-india/IndividualDetails.csv\n",
      "/kaggle/input/covid19-in-india/HospitalBedsIndia.csv\n",
      "/kaggle/input/covid19-in-india/ICMRTestingDetails.csv\n",
      "/kaggle/input/covid19-in-india/covid_19_india.csv\n",
      "/kaggle/input/covid19-in-india/AgeGroupDetails.csv\n",
      "/kaggle/input/covid19-in-india/population_india_census2011.csv\n"
     ]
    }
   ],
   "source": [
    "# This Python 3 environment comes with many helpful analytics libraries installed\n",
    "# It is defined by the kaggle/python docker image: https://github.com/kaggle/docker-python\n",
    "# For example, here's several helpful packages to load in \n",
    "\n",
    "import numpy as np # linear algebra\n",
    "import pandas as pd # data processing, CSV file I/O (e.g. pd.read_csv)\n",
    "\n",
    "# Input data files are available in the \"../input/\" directory.\n",
    "# For example, running this (by clicking run or pressing Shift+Enter) will list all files under the input directory\n",
    "\n",
    "import os\n",
    "for dirname, _, filenames in os.walk('/kaggle/input'):\n",
    "    for filename in filenames:\n",
    "        print(os.path.join(dirname, filename))\n",
    "\n",
    "# Any results you write to the current directory are saved as output.\n",
    "\n",
    "import seaborn as sns\n",
    "import matplotlib.pyplot as plt"
   ]
  },
  {
   "cell_type": "markdown",
   "metadata": {},
   "source": [
    "Load dataset"
   ]
  },
  {
   "cell_type": "code",
   "execution_count": 2,
   "metadata": {},
   "outputs": [],
   "source": [
    "missing_values = [\"n/a\", \"na\", \"-\"]\n",
    "dataset = pd.read_csv('/kaggle/input/covid19-in-india/covid_19_india.csv',na_values = missing_values)"
   ]
  },
  {
   "cell_type": "code",
   "execution_count": 3,
   "metadata": {},
   "outputs": [
    {
     "data": {
      "text/html": [
       "<div>\n",
       "<style scoped>\n",
       "    .dataframe tbody tr th:only-of-type {\n",
       "        vertical-align: middle;\n",
       "    }\n",
       "\n",
       "    .dataframe tbody tr th {\n",
       "        vertical-align: top;\n",
       "    }\n",
       "\n",
       "    .dataframe thead th {\n",
       "        text-align: right;\n",
       "    }\n",
       "</style>\n",
       "<table border=\"1\" class=\"dataframe\">\n",
       "  <thead>\n",
       "    <tr style=\"text-align: right;\">\n",
       "      <th></th>\n",
       "      <th>Sno</th>\n",
       "      <th>Date</th>\n",
       "      <th>Time</th>\n",
       "      <th>State/UnionTerritory</th>\n",
       "      <th>ConfirmedIndianNational</th>\n",
       "      <th>ConfirmedForeignNational</th>\n",
       "      <th>Cured</th>\n",
       "      <th>Deaths</th>\n",
       "      <th>Confirmed</th>\n",
       "    </tr>\n",
       "  </thead>\n",
       "  <tbody>\n",
       "    <tr>\n",
       "      <th>0</th>\n",
       "      <td>1</td>\n",
       "      <td>30/01/20</td>\n",
       "      <td>6:00 PM</td>\n",
       "      <td>Kerala</td>\n",
       "      <td>1.0</td>\n",
       "      <td>0.0</td>\n",
       "      <td>0</td>\n",
       "      <td>0</td>\n",
       "      <td>1</td>\n",
       "    </tr>\n",
       "    <tr>\n",
       "      <th>1</th>\n",
       "      <td>2</td>\n",
       "      <td>31/01/20</td>\n",
       "      <td>6:00 PM</td>\n",
       "      <td>Kerala</td>\n",
       "      <td>1.0</td>\n",
       "      <td>0.0</td>\n",
       "      <td>0</td>\n",
       "      <td>0</td>\n",
       "      <td>1</td>\n",
       "    </tr>\n",
       "    <tr>\n",
       "      <th>2</th>\n",
       "      <td>3</td>\n",
       "      <td>01/02/20</td>\n",
       "      <td>6:00 PM</td>\n",
       "      <td>Kerala</td>\n",
       "      <td>2.0</td>\n",
       "      <td>0.0</td>\n",
       "      <td>0</td>\n",
       "      <td>0</td>\n",
       "      <td>2</td>\n",
       "    </tr>\n",
       "    <tr>\n",
       "      <th>3</th>\n",
       "      <td>4</td>\n",
       "      <td>02/02/20</td>\n",
       "      <td>6:00 PM</td>\n",
       "      <td>Kerala</td>\n",
       "      <td>3.0</td>\n",
       "      <td>0.0</td>\n",
       "      <td>0</td>\n",
       "      <td>0</td>\n",
       "      <td>3</td>\n",
       "    </tr>\n",
       "    <tr>\n",
       "      <th>4</th>\n",
       "      <td>5</td>\n",
       "      <td>03/02/20</td>\n",
       "      <td>6:00 PM</td>\n",
       "      <td>Kerala</td>\n",
       "      <td>3.0</td>\n",
       "      <td>0.0</td>\n",
       "      <td>0</td>\n",
       "      <td>0</td>\n",
       "      <td>3</td>\n",
       "    </tr>\n",
       "  </tbody>\n",
       "</table>\n",
       "</div>"
      ],
      "text/plain": [
       "   Sno      Date     Time State/UnionTerritory  ConfirmedIndianNational  \\\n",
       "0    1  30/01/20  6:00 PM               Kerala                      1.0   \n",
       "1    2  31/01/20  6:00 PM               Kerala                      1.0   \n",
       "2    3  01/02/20  6:00 PM               Kerala                      2.0   \n",
       "3    4  02/02/20  6:00 PM               Kerala                      3.0   \n",
       "4    5  03/02/20  6:00 PM               Kerala                      3.0   \n",
       "\n",
       "   ConfirmedForeignNational  Cured  Deaths  Confirmed  \n",
       "0                       0.0      0       0          1  \n",
       "1                       0.0      0       0          1  \n",
       "2                       0.0      0       0          2  \n",
       "3                       0.0      0       0          3  \n",
       "4                       0.0      0       0          3  "
      ]
     },
     "execution_count": 3,
     "metadata": {},
     "output_type": "execute_result"
    }
   ],
   "source": [
    "dataset.head()"
   ]
  },
  {
   "cell_type": "code",
   "execution_count": 4,
   "metadata": {},
   "outputs": [
    {
     "name": "stdout",
     "output_type": "stream",
     "text": [
      "dict_values([168.0, 46.0, 38.0, 52.0, 54.0, 19.0, 13.0, 34.0, 55.0, 177.0, 38.0, 20.0, 14.0, 4.0, 3.0, 1.0, 15.0, 1.0, 8.0, 6.0, 44.0, 1.0, 3.0, 30.0, 9.0, 1.0, 1.0, 6.0, 3.0])\n"
     ]
    }
   ],
   "source": [
    "cases_local = {} #dict for local cases\n",
    "cases_foreign = {} #dict for foreign patients in india\n",
    "\n",
    "\n",
    "\n",
    "for i in range(446):\n",
    "    cases_local[dataset['State/UnionTerritory'][i]] = dataset['ConfirmedIndianNational'][i]\n",
    "    cases_foreign[dataset['State/UnionTerritory'][i]] = dataset['ConfirmedForeignNational'][i]\n",
    "print(cases_local.values())"
   ]
  },
  {
   "cell_type": "code",
   "execution_count": 5,
   "metadata": {},
   "outputs": [
    {
     "data": {
      "image/png": "[encoded data removed]",
      "text/plain": [
       "<Figure size 432x288 with 1 Axes>"
      ]
     },
     "metadata": {
      "needs_background": "light"
     },
     "output_type": "display_data"
    }
   ],
   "source": [
    "p1 = plt.bar(np.arange(len(cases_local)),list(cases_local.values()), 0.7)\n",
    "p2 = plt.bar(np.arange(len(cases_local)), list(cases_foreign.values()), 0.7,\n",
    "             bottom=list(cases_local.values()))\n",
    "\n",
    "plt.ylabel('Cases')\n",
    "plt.title('Cases by states/UTs')\n",
    "plt.xticks(np.arange(len(cases_local)), cases_local.keys(),rotation='vertical')\n",
    "plt.yticks(np.arange(0, 200, 20))\n",
    "plt.legend((p1[0], p2[0]), ('Local patient', 'Foreign patient'))\n",
    "\n",
    "plt.show()"
   ]
  },
  {
   "cell_type": "code",
   "execution_count": 6,
   "metadata": {},
   "outputs": [],
   "source": [
    "deaths = {} #dict for deaths\n",
    "for i in range(len(dataset)):\n",
    "    deaths[dataset['State/UnionTerritory'][i]] = int(dataset['Deaths'][i])\n"
   ]
  },
  {
   "cell_type": "code",
   "execution_count": 7,
   "metadata": {},
   "outputs": [
    {
     "data": {
      "image/png": "[encoded data removed]",
      "text/plain": [
       "<Figure size 432x288 with 1 Axes>"
      ]
     },
     "metadata": {
      "needs_background": "light"
     },
     "output_type": "display_data"
    }
   ],
   "source": [
    "plt.bar(np.arange(len(deaths)),deaths.values(), 0.7)\n",
    "plt.ylabel('Deaths')\n",
    "plt.xticks(np.arange(len(deaths)), deaths.keys(),rotation='vertical')\n",
    "plt.yticks(np.arange(0, 8, 1))\n",
    "plt.title('Deaths in various states/UTs',bbox={'facecolor':'0.8', 'pad':5})\n",
    "plt.show()"
   ]
  },
  {
   "cell_type": "code",
   "execution_count": 8,
   "metadata": {},
   "outputs": [
    {
     "data": {
      "text/plain": [
       "{'Kerala': 8.11965811965812,\n",
       " 'Telengana': 1.2658227848101267,\n",
       " 'Delhi': 6.185567010309279,\n",
       " 'Rajasthan': 4.054054054054054,\n",
       " 'Uttar Pradesh': 13.861386138613863,\n",
       " 'Haryana': 52.5,\n",
       " 'Ladakh': 23.076923076923077,\n",
       " 'Tamil Nadu': 5.405405405405405,\n",
       " 'Karnataka': 6.024096385542169,\n",
       " 'Maharashtra': 18.055555555555554,\n",
       " 'Punjab': 2.4390243902439024,\n",
       " 'Jammu and Kashmir': 3.7037037037037033,\n",
       " 'Andhra Pradesh': 2.5,\n",
       " 'Uttarakhand': 28.57142857142857,\n",
       " 'Odisha': 0.0,\n",
       " 'Pondicherry': 0.0,\n",
       " 'West Bengal': 0.0,\n",
       " 'Chattisgarh': 0.0,\n",
       " 'Chandigarh': 0.0,\n",
       " 'Chhattisgarh': 0.0,\n",
       " 'Gujarat': 4.10958904109589,\n",
       " 'Puducherry': 0.0,\n",
       " 'Himachal Pradesh': 0.0,\n",
       " 'Madhya Pradesh': 0.0,\n",
       " 'Bihar': 0.0,\n",
       " 'Manipur': 0.0,\n",
       " 'Mizoram': 0.0,\n",
       " 'Andaman and Nicobar Islands': 0.0,\n",
       " 'Goa': 0.0,\n",
       " 'Unclassified': 0.0}"
      ]
     },
     "execution_count": 8,
     "metadata": {},
     "output_type": "execute_result"
    }
   ],
   "source": [
    "cured_per_cases = {}  #percentage of cured per confirmed cases\n",
    "for i in range(len(dataset)):\n",
    "    cured_per_cases[dataset['State/UnionTerritory'][i]] = (dataset['Cured'][i] / (dataset['Confirmed'][i]))*100\n",
    "cured_per_cases"
   ]
  },
  {
   "cell_type": "code",
   "execution_count": 9,
   "metadata": {},
   "outputs": [
    {
     "data": {
      "image/png": "[encoded data removed]",
      "text/plain": [
       "<Figure size 432x288 with 1 Axes>"
      ]
     },
     "metadata": {},
     "output_type": "display_data"
    }
   ],
   "source": [
    "plt.pie([v for v in cured_per_cases.values()],labels = [k for k in cured_per_cases.keys()])\n",
    "plt.show()"
   ]
  },
  {
   "cell_type": "code",
   "execution_count": 10,
   "metadata": {},
   "outputs": [
    {
     "name": "stderr",
     "output_type": "stream",
     "text": [
      "/opt/conda/lib/python3.6/site-packages/pandas/plotting/_matplotlib/converter.py:103: FutureWarning: Using an implicitly registered datetime converter for a matplotlib plotting method. The converter was registered by pandas on import. Future versions of pandas will require you to explicitly register matplotlib converters.\n",
      "\n",
      "To register the converters:\n",
      "\t>>> from pandas.plotting import register_matplotlib_converters\n",
      "\t>>> register_matplotlib_converters()\n",
      "  warnings.warn(msg, FutureWarning)\n"
     ]
    },
    {
     "data": {
      "image/png": "[encoded data removed]",
      "text/plain": [
       "<Figure size 432x288 with 1 Axes>"
      ]
     },
     "metadata": {
      "needs_background": "light"
     },
     "output_type": "display_data"
    }
   ],
   "source": [
    "import datetime\n",
    "\n",
    "start = datetime.datetime.strptime(dataset['Date'][0], \"%d/%m/%y\")\n",
    "end = datetime.datetime.strptime(dataset['Date'][len(dataset)-1], \"%d/%m/%y\")\n",
    "date = pd.date_range(start,end)\n",
    "cases_by_date = dataset['Date'].value_counts().to_dict()\n",
    "\n",
    "cases = []\n",
    "list1 = list(cases_by_date.values())\n",
    "list1.sort()\n",
    "\n",
    "for i in range(len(date)):\n",
    "    if i==0:\n",
    "        cases.append(list1[i])\n",
    "        \n",
    "    else:\n",
    "        cases.append(cases[i-1] + list1[i])\n",
    "    \n",
    "fig, ax = plt.subplots()\n",
    "ax.plot(date,cases)\n",
    "ax.xaxis_date()     # interpret the x-axis values as dates\n",
    "fig.autofmt_xdate()\n",
    "plt.title('Cases progression by date')\n",
    "plt.ylabel('Cases till date')\n",
    "plt.show()"
   ]
  },
  {
   "cell_type": "code",
   "execution_count": 11,
   "metadata": {},
   "outputs": [
    {
     "data": {
      "text/html": [
       "<div>\n",
       "<style scoped>\n",
       "    .dataframe tbody tr th:only-of-type {\n",
       "        vertical-align: middle;\n",
       "    }\n",
       "\n",
       "    .dataframe tbody tr th {\n",
       "        vertical-align: top;\n",
       "    }\n",
       "\n",
       "    .dataframe thead th {\n",
       "        text-align: right;\n",
       "    }\n",
       "</style>\n",
       "<table border=\"1\" class=\"dataframe\">\n",
       "  <thead>\n",
       "    <tr style=\"text-align: right;\">\n",
       "      <th></th>\n",
       "      <th>SNo</th>\n",
       "      <th>DateTime</th>\n",
       "      <th>TotalSamplesTested</th>\n",
       "      <th>TotalIndividualsTested</th>\n",
       "      <th>TotalPositiveCases</th>\n",
       "      <th>Source</th>\n",
       "    </tr>\n",
       "  </thead>\n",
       "  <tbody>\n",
       "    <tr>\n",
       "      <th>0</th>\n",
       "      <td>1</td>\n",
       "      <td>13/03/20 0:00</td>\n",
       "      <td>6500</td>\n",
       "      <td>5900</td>\n",
       "      <td>78</td>\n",
       "      <td>Press_Release_ICMR_13March2020.pdf</td>\n",
       "    </tr>\n",
       "    <tr>\n",
       "      <th>1</th>\n",
       "      <td>2</td>\n",
       "      <td>18/03/20 18:00</td>\n",
       "      <td>13125</td>\n",
       "      <td>12235</td>\n",
       "      <td>150</td>\n",
       "      <td>ICMR_website_update_18March_6PM_IST.pdf</td>\n",
       "    </tr>\n",
       "    <tr>\n",
       "      <th>2</th>\n",
       "      <td>3</td>\n",
       "      <td>19/03/20 10:00</td>\n",
       "      <td>13316</td>\n",
       "      <td>12426</td>\n",
       "      <td>168</td>\n",
       "      <td>ICMR_website_update_19March_10AM_IST_V2.pdf</td>\n",
       "    </tr>\n",
       "    <tr>\n",
       "      <th>3</th>\n",
       "      <td>4</td>\n",
       "      <td>19/03/20 18:00</td>\n",
       "      <td>14175</td>\n",
       "      <td>13285</td>\n",
       "      <td>182</td>\n",
       "      <td>ICMR_website_update_19March_6PM_IST.pdf</td>\n",
       "    </tr>\n",
       "    <tr>\n",
       "      <th>4</th>\n",
       "      <td>5</td>\n",
       "      <td>20/03/20 10:00</td>\n",
       "      <td>14376</td>\n",
       "      <td>13486</td>\n",
       "      <td>206</td>\n",
       "      <td>ICMR_website_update_20March_10AM_IST.pdf</td>\n",
       "    </tr>\n",
       "  </tbody>\n",
       "</table>\n",
       "</div>"
      ],
      "text/plain": [
       "   SNo        DateTime  TotalSamplesTested  TotalIndividualsTested  \\\n",
       "0    1   13/03/20 0:00                6500                    5900   \n",
       "1    2  18/03/20 18:00               13125                   12235   \n",
       "2    3  19/03/20 10:00               13316                   12426   \n",
       "3    4  19/03/20 18:00               14175                   13285   \n",
       "4    5  20/03/20 10:00               14376                   13486   \n",
       "\n",
       "   TotalPositiveCases                                       Source  \n",
       "0                  78           Press_Release_ICMR_13March2020.pdf  \n",
       "1                 150      ICMR_website_update_18March_6PM_IST.pdf  \n",
       "2                 168  ICMR_website_update_19March_10AM_IST_V2.pdf  \n",
       "3                 182      ICMR_website_update_19March_6PM_IST.pdf  \n",
       "4                 206     ICMR_website_update_20March_10AM_IST.pdf  "
      ]
     },
     "execution_count": 11,
     "metadata": {},
     "output_type": "execute_result"
    }
   ],
   "source": [
    "samples_tested =  pd.read_csv('/kaggle/input/covid19-in-india/ICMRTestingDetails.csv')\n",
    "samples_tested.head()"
   ]
  },
  {
   "cell_type": "code",
   "execution_count": 12,
   "metadata": {},
   "outputs": [
    {
     "data": {
      "image/png": "[encoded data removed]",
      "text/plain": [
       "<Figure size 432x288 with 1 Axes>"
      ]
     },
     "metadata": {
      "needs_background": "light"
     },
     "output_type": "display_data"
    }
   ],
   "source": [
    "individual_tested = {}\n",
    "positive_cases = {}\n",
    "for i in range(len(samples_tested)):\n",
    "    individual_tested[samples_tested['DateTime'][i]] = samples_tested['TotalIndividualsTested'][i]\n",
    "    positive_cases[samples_tested['DateTime'][i]] = samples_tested['TotalPositiveCases'][i]\n",
    "    \n",
    "p1 = plt.bar(np.arange(len(individual_tested)),list(individual_tested.values()), 0.7)\n",
    "p2 = plt.bar(np.arange(len(positive_cases)), list(positive_cases.values()), 0.7,\n",
    "             bottom=list(individual_tested.values()))\n",
    "\n",
    "plt.ylabel('Samples')\n",
    "plt.title('Samples tested')\n",
    "plt.xticks(np.arange(len(individual_tested)), individual_tested.keys(),rotation='vertical')\n",
    "#plt.yticks(np.arange(0, 200, 20))\n",
    "plt.legend((p1[0], p2[0]), ('Individual tested', 'Positive Cases'))\n",
    "\n",
    "plt.show()"
   ]
  },
  {
   "cell_type": "code",
   "execution_count": 13,
   "metadata": {},
   "outputs": [
    {
     "data": {
      "text/html": [
       "<div>\n",
       "<style scoped>\n",
       "    .dataframe tbody tr th:only-of-type {\n",
       "        vertical-align: middle;\n",
       "    }\n",
       "\n",
       "    .dataframe tbody tr th {\n",
       "        vertical-align: top;\n",
       "    }\n",
       "\n",
       "    .dataframe thead th {\n",
       "        text-align: right;\n",
       "    }\n",
       "</style>\n",
       "<table border=\"1\" class=\"dataframe\">\n",
       "  <thead>\n",
       "    <tr style=\"text-align: right;\">\n",
       "      <th></th>\n",
       "      <th>Sno</th>\n",
       "      <th>AgeGroup</th>\n",
       "      <th>TotalCases</th>\n",
       "      <th>Percentage</th>\n",
       "    </tr>\n",
       "  </thead>\n",
       "  <tbody>\n",
       "    <tr>\n",
       "      <th>0</th>\n",
       "      <td>1</td>\n",
       "      <td>0-9</td>\n",
       "      <td>22</td>\n",
       "      <td>3.18%</td>\n",
       "    </tr>\n",
       "    <tr>\n",
       "      <th>1</th>\n",
       "      <td>2</td>\n",
       "      <td>10-19</td>\n",
       "      <td>27</td>\n",
       "      <td>3.90%</td>\n",
       "    </tr>\n",
       "    <tr>\n",
       "      <th>2</th>\n",
       "      <td>3</td>\n",
       "      <td>20-29</td>\n",
       "      <td>172</td>\n",
       "      <td>24.86%</td>\n",
       "    </tr>\n",
       "    <tr>\n",
       "      <th>3</th>\n",
       "      <td>4</td>\n",
       "      <td>30-39</td>\n",
       "      <td>146</td>\n",
       "      <td>21.10%</td>\n",
       "    </tr>\n",
       "    <tr>\n",
       "      <th>4</th>\n",
       "      <td>5</td>\n",
       "      <td>40-49</td>\n",
       "      <td>112</td>\n",
       "      <td>16.18%</td>\n",
       "    </tr>\n",
       "  </tbody>\n",
       "</table>\n",
       "</div>"
      ],
      "text/plain": [
       "   Sno AgeGroup  TotalCases Percentage\n",
       "0    1      0-9          22      3.18%\n",
       "1    2    10-19          27      3.90%\n",
       "2    3    20-29         172     24.86%\n",
       "3    4    30-39         146     21.10%\n",
       "4    5    40-49         112     16.18%"
      ]
     },
     "execution_count": 13,
     "metadata": {},
     "output_type": "execute_result"
    }
   ],
   "source": [
    "AgeGroupDetails =  pd.read_csv('/kaggle/input/covid19-in-india/AgeGroupDetails.csv')\n",
    "AgeGroupDetails.head()\n"
   ]
  },
  {
   "cell_type": "code",
   "execution_count": 14,
   "metadata": {},
   "outputs": [
    {
     "data": {
      "text/plain": [
       "{'0-9': '3.18',\n",
       " '10-19': '3.90',\n",
       " '20-29': '24.86',\n",
       " '30-39': '21.10',\n",
       " '40-49': '16.18',\n",
       " '50-59': '11.13',\n",
       " '60-69': '12.86',\n",
       " '70-79': '4.05',\n",
       " '>=80': '1.45',\n",
       " 'Missing': '1.30'}"
      ]
     },
     "execution_count": 14,
     "metadata": {},
     "output_type": "execute_result"
    }
   ],
   "source": [
    "age_percent = {}\n",
    "for i in range(len(AgeGroupDetails)):\n",
    "    age_percent[AgeGroupDetails['AgeGroup'][i]] = AgeGroupDetails['Percentage'][i][0:-1]\n",
    "age_percent"
   ]
  },
  {
   "cell_type": "code",
   "execution_count": 15,
   "metadata": {},
   "outputs": [
    {
     "data": {
      "image/png": "[encoded data removed]",
      "text/plain": [
       "<Figure size 432x288 with 1 Axes>"
      ]
     },
     "metadata": {},
     "output_type": "display_data"
    }
   ],
   "source": [
    "plt.pie(age_percent.values(), labels=age_percent.keys(), autopct='%1.1f%%')\n",
    "        \n",
    "#draw a circle at the center of pie to make it look like a donut\n",
    "centre_circle = plt.Circle((0,0),0.75,color='black', fc='white',linewidth=1.25)\n",
    "fig = plt.gcf()\n",
    "fig.gca().add_artist(centre_circle)\n",
    "\n",
    "plt.title('Cases by Age groups')\n",
    "# Set aspect ratio to be equal so that pie is drawn as a circle.\n",
    "plt.axis('equal')\n",
    "plt.show()  "
   ]
  },
  {
   "cell_type": "code",
   "execution_count": 16,
   "metadata": {},
   "outputs": [
    {
     "data": {
      "text/html": [
       "<div>\n",
       "<style scoped>\n",
       "    .dataframe tbody tr th:only-of-type {\n",
       "        vertical-align: middle;\n",
       "    }\n",
       "\n",
       "    .dataframe tbody tr th {\n",
       "        vertical-align: top;\n",
       "    }\n",
       "\n",
       "    .dataframe thead th {\n",
       "        text-align: right;\n",
       "    }\n",
       "</style>\n",
       "<table border=\"1\" class=\"dataframe\">\n",
       "  <thead>\n",
       "    <tr style=\"text-align: right;\">\n",
       "      <th></th>\n",
       "      <th>id</th>\n",
       "      <th>government_id</th>\n",
       "      <th>diagnosed_date</th>\n",
       "      <th>age</th>\n",
       "      <th>gender</th>\n",
       "      <th>detected_city</th>\n",
       "      <th>detected_district</th>\n",
       "      <th>detected_state</th>\n",
       "      <th>nationality</th>\n",
       "      <th>current_status</th>\n",
       "      <th>status_change_date</th>\n",
       "      <th>notes</th>\n",
       "    </tr>\n",
       "  </thead>\n",
       "  <tbody>\n",
       "    <tr>\n",
       "      <th>0</th>\n",
       "      <td>0</td>\n",
       "      <td>KL-TS-P1</td>\n",
       "      <td>30/01/2020</td>\n",
       "      <td>20</td>\n",
       "      <td>F</td>\n",
       "      <td>Thrissur</td>\n",
       "      <td>Thrissur</td>\n",
       "      <td>Kerala</td>\n",
       "      <td>India</td>\n",
       "      <td>Recovered</td>\n",
       "      <td>14/02/2020</td>\n",
       "      <td>Travelled from Wuhan</td>\n",
       "    </tr>\n",
       "    <tr>\n",
       "      <th>1</th>\n",
       "      <td>1</td>\n",
       "      <td>KL-AL-P1</td>\n",
       "      <td>02/02/2020</td>\n",
       "      <td>NaN</td>\n",
       "      <td>NaN</td>\n",
       "      <td>Alappuzha</td>\n",
       "      <td>Alappuzha</td>\n",
       "      <td>Kerala</td>\n",
       "      <td>India</td>\n",
       "      <td>Recovered</td>\n",
       "      <td>14/02/2020</td>\n",
       "      <td>Travelled from Wuhan</td>\n",
       "    </tr>\n",
       "    <tr>\n",
       "      <th>2</th>\n",
       "      <td>2</td>\n",
       "      <td>KL-KS-P1</td>\n",
       "      <td>03/02/2020</td>\n",
       "      <td>NaN</td>\n",
       "      <td>NaN</td>\n",
       "      <td>Kasaragod</td>\n",
       "      <td>Kasaragod</td>\n",
       "      <td>Kerala</td>\n",
       "      <td>India</td>\n",
       "      <td>Recovered</td>\n",
       "      <td>14/02/2020</td>\n",
       "      <td>Travelled from Wuhan</td>\n",
       "    </tr>\n",
       "    <tr>\n",
       "      <th>3</th>\n",
       "      <td>3</td>\n",
       "      <td>DL-P1</td>\n",
       "      <td>02/03/2020</td>\n",
       "      <td>45</td>\n",
       "      <td>M</td>\n",
       "      <td>East Delhi (Mayur Vihar)</td>\n",
       "      <td>East Delhi</td>\n",
       "      <td>Delhi</td>\n",
       "      <td>India</td>\n",
       "      <td>Recovered</td>\n",
       "      <td>15/03/2020</td>\n",
       "      <td>Travelled from Austria, Italy</td>\n",
       "    </tr>\n",
       "    <tr>\n",
       "      <th>4</th>\n",
       "      <td>4</td>\n",
       "      <td>TS-P1</td>\n",
       "      <td>02/03/2020</td>\n",
       "      <td>24</td>\n",
       "      <td>M</td>\n",
       "      <td>Hyderabad</td>\n",
       "      <td>Hyderabad</td>\n",
       "      <td>Telangana</td>\n",
       "      <td>India</td>\n",
       "      <td>Recovered</td>\n",
       "      <td>02/03/2020</td>\n",
       "      <td>NaN</td>\n",
       "    </tr>\n",
       "  </tbody>\n",
       "</table>\n",
       "</div>"
      ],
      "text/plain": [
       "   id government_id diagnosed_date  age gender             detected_city  \\\n",
       "0   0      KL-TS-P1     30/01/2020   20      F                  Thrissur   \n",
       "1   1      KL-AL-P1     02/02/2020  NaN    NaN                 Alappuzha   \n",
       "2   2      KL-KS-P1     03/02/2020  NaN    NaN                 Kasaragod   \n",
       "3   3         DL-P1     02/03/2020   45      M  East Delhi (Mayur Vihar)   \n",
       "4   4         TS-P1     02/03/2020   24      M                 Hyderabad   \n",
       "\n",
       "  detected_district detected_state nationality current_status  \\\n",
       "0          Thrissur         Kerala       India      Recovered   \n",
       "1         Alappuzha         Kerala       India      Recovered   \n",
       "2         Kasaragod         Kerala       India      Recovered   \n",
       "3        East Delhi          Delhi       India      Recovered   \n",
       "4         Hyderabad      Telangana       India      Recovered   \n",
       "\n",
       "  status_change_date                          notes  \n",
       "0         14/02/2020           Travelled from Wuhan  \n",
       "1         14/02/2020           Travelled from Wuhan  \n",
       "2         14/02/2020           Travelled from Wuhan  \n",
       "3         15/03/2020  Travelled from Austria, Italy  \n",
       "4         02/03/2020                            NaN  "
      ]
     },
     "execution_count": 16,
     "metadata": {},
     "output_type": "execute_result"
    }
   ],
   "source": [
    "IndividualDetails =  pd.read_csv('/kaggle/input/covid19-in-india/IndividualDetails.csv')\n",
    "IndividualDetails.head()\n"
   ]
  },
  {
   "cell_type": "code",
   "execution_count": 17,
   "metadata": {},
   "outputs": [
    {
     "data": {
      "text/plain": [
       "{'M': 351, 'F': 182}"
      ]
     },
     "execution_count": 17,
     "metadata": {},
     "output_type": "execute_result"
    }
   ],
   "source": [
    "gender = IndividualDetails['gender'].value_counts().to_dict()\n",
    "gender"
   ]
  },
  {
   "cell_type": "code",
   "execution_count": 18,
   "metadata": {},
   "outputs": [
    {
     "data": {
      "image/png": "[encoded data removed]",
      "text/plain": [
       "<Figure size 432x288 with 1 Axes>"
      ]
     },
     "metadata": {},
     "output_type": "display_data"
    }
   ],
   "source": [
    "plt.pie(gender.values(),labels=gender.keys(),autopct='%1.1f%%')\n",
    "plt.show()"
   ]
  },
  {
   "cell_type": "code",
   "execution_count": 19,
   "metadata": {},
   "outputs": [
    {
     "data": {
      "text/plain": [
       "id                       0\n",
       "government_id         1047\n",
       "diagnosed_date           0\n",
       "age                    819\n",
       "gender                 771\n",
       "detected_city          661\n",
       "detected_district      349\n",
       "detected_state         219\n",
       "nationality            890\n",
       "current_status         219\n",
       "status_change_date     222\n",
       "notes                  244\n",
       "dtype: int64"
      ]
     },
     "execution_count": 19,
     "metadata": {},
     "output_type": "execute_result"
    }
   ],
   "source": [
    "IndividualDetails.isnull().sum()"
   ]
  },
  {
   "cell_type": "markdown",
   "metadata": {},
   "source": [
    "null values of Age can be replaced by age group percentage"
   ]
  },
  {
   "cell_type": "code",
   "execution_count": 20,
   "metadata": {},
   "outputs": [
    {
     "name": "stderr",
     "output_type": "stream",
     "text": [
      "/opt/conda/lib/python3.6/site-packages/ipykernel_launcher.py:12: SettingWithCopyWarning: \n",
      "A value is trying to be set on a copy of a slice from a DataFrame\n",
      "\n",
      "See the caveats in the documentation: http://pandas.pydata.org/pandas-docs/stable/user_guide/indexing.html#returning-a-view-versus-a-copy\n",
      "  if sys.path[0] == '':\n"
     ]
    }
   ],
   "source": [
    "import random\n",
    "\n",
    "age_grp = [5,15,25,35,45,55,65,75,85,90]\n",
    "weights = list((age_percent.values()))\n",
    "for i in range(len(weights)):\n",
    "    weights[i] = round(float(weights[i]))\n",
    "prob = random.choices(age_grp, weights=weights,   k=100)\n",
    "\n",
    "null_age = IndividualDetails['age'].isnull()\n",
    "for i in range(len(null_age)):\n",
    "    if null_age[i]== True:\n",
    "        IndividualDetails['age'][i] = prob[i%100]\n",
    "        \n",
    "IndividualDetails['nationality'].fillna('India',inplace=True) #as most of the patients are Indians\n"
   ]
  },
  {
   "cell_type": "code",
   "execution_count": 21,
   "metadata": {},
   "outputs": [
    {
     "name": "stderr",
     "output_type": "stream",
     "text": [
      "/opt/conda/lib/python3.6/site-packages/ipykernel_launcher.py:5: SettingWithCopyWarning: \n",
      "A value is trying to be set on a copy of a slice from a DataFrame\n",
      "\n",
      "See the caveats in the documentation: http://pandas.pydata.org/pandas-docs/stable/user_guide/indexing.html#returning-a-view-versus-a-copy\n",
      "  \"\"\"\n"
     ]
    },
    {
     "data": {
      "text/plain": [
       "id                       0\n",
       "government_id         1047\n",
       "diagnosed_date           0\n",
       "age                      0\n",
       "gender                   0\n",
       "detected_city          661\n",
       "detected_district      349\n",
       "detected_state         219\n",
       "nationality              0\n",
       "current_status         219\n",
       "status_change_date     222\n",
       "notes                  244\n",
       "dtype: int64"
      ]
     },
     "execution_count": 21,
     "metadata": {},
     "output_type": "execute_result"
    }
   ],
   "source": [
    "prob1 = random.choices(['M','F'],weights = [66,34],k=100) #except null values ratio for gender is 66/34\n",
    "null_gender = IndividualDetails['gender'].isnull()\n",
    "for i in range(len(null_gender)):\n",
    "    if null_gender[i]== True:\n",
    "        IndividualDetails['gender'][i] = prob1[i%100]\n",
    "IndividualDetails.isnull().sum()"
   ]
  },
  {
   "cell_type": "code",
   "execution_count": 22,
   "metadata": {},
   "outputs": [
    {
     "data": {
      "image/png": "[encoded data removed]",
      "text/plain": [
       "<Figure size 432x288 with 1 Axes>"
      ]
     },
     "metadata": {},
     "output_type": "display_data"
    }
   ],
   "source": [
    "IndividualDetails['gender']\n",
    "gender = IndividualDetails['gender'].value_counts().to_dict()\n",
    "plt.pie(gender.values(),labels=gender.keys(),autopct='%1.1f%%')\n",
    "plt.show()\n"
   ]
  },
  {
   "cell_type": "code",
   "execution_count": null,
   "metadata": {},
   "outputs": [],
   "source": []
  }
 ],
 "metadata": {
  "kernelspec": {
   "display_name": "Python 3",
   "language": "python",
   "name": "python3"
  },
  "language_info": {
   "codemirror_mode": {
    "name": "ipython",
    "version": 3
   },
   "file_extension": ".py",
   "mimetype": "text/x-python",
   "name": "python",
   "nbconvert_exporter": "python",
   "pygments_lexer": "ipython3",
   "version": "3.6.6"
  }
 },
 "nbformat": 4,
 "nbformat_minor": 4
}
